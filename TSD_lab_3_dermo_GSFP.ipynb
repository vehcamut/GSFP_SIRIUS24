{
  "cells": [
    {
      "cell_type": "code",
      "execution_count": null,
      "metadata": {
        "id": "miDB58cjz_ho"
      },
      "outputs": [],
      "source": [
        "import numpy as np\n",
        "from scipy.stats import norm, multivariate_normal\n",
        "import pandas as pd"
      ]
    },
    {
      "cell_type": "markdown",
      "source": [
        "#  Экзотические опционы"
      ],
      "metadata": {
        "id": "kVCQXuf1wuk_"
      }
    },
    {
      "cell_type": "code",
      "execution_count": null,
      "metadata": {
        "id": "DyYR8X9-z_hp"
      },
      "outputs": [],
      "source": [
        "# вспомогательные функции для аппроксимации двумерного нормального распределения\n",
        "def f(x, y, a, b, rho):\n",
        "    return np.exp(_a(a, rho)*(2*x - _a(a, rho)) + _b(b, rho)*(2*y - _b(b, rho)) + 2*rho*(x-_a(a, rho))*(y-_b(b, rho)))\n",
        "\n",
        "def _a(a, p):\n",
        "    return a/np.sqrt(2*(1-p**2))\n",
        "\n",
        "def _b (b, p):\n",
        "    return b/np.sqrt(2*(1-p**2))\n",
        "\n",
        "\n",
        "def M(a, b, rho):\n",
        "    A = [0.3253030,  0.4211071, 0.1334425, 0.006374323]\n",
        "    B = [0.1337764,  0.6243247, 1.3425378, 2.2626645]\n",
        "    sum = 0\n",
        "    for i in range(len(A)):\n",
        "        for j in range(len(B)):\n",
        "            sum += A[i]*A[j]*f(B[i], B[j], a, b, rho)\n",
        "\n",
        "    return np.sqrt(1-rho**2)/np.pi * sum"
      ]
    },
    {
      "cell_type": "code",
      "execution_count": null,
      "metadata": {
        "id": "zv-fFVC6z_hq"
      },
      "outputs": [],
      "source": [
        "def OptionBlackSholes(call_or_put, S, K, T, r, b, sigma):\n",
        "    d1 = (np.log(S / K) + (b + sigma ** 2 / 2) * T) / (sigma * np.sqrt(T))\n",
        "    d2 = d1 - sigma * np.sqrt(T)\n",
        "    if call_or_put == 'call':\n",
        "      c = S * np.exp((b-r) * T) * norm.cdf(d1) - K * np.exp(-r * T) * norm.cdf(d2)\n",
        "      return c\n",
        "    elif call_or_put == 'put':\n",
        "      p = K * np.exp(-r * T) * norm.cdf(-d2) - S * np.exp((b-r) * T) * norm.cdf(-d1)\n",
        "      return p"
      ]
    },
    {
      "cell_type": "code",
      "execution_count": null,
      "metadata": {
        "colab": {
          "base_uri": "https://localhost:8080/"
        },
        "id": "eo3LdGfPz_hq",
        "outputId": "e78780e3-0edb-4382-b3bf-a81bce42c75a"
      },
      "outputs": [
        {
          "data": {
            "text/plain": [
              "4.086953828635355"
            ]
          },
          "execution_count": 4,
          "metadata": {},
          "output_type": "execute_result"
        }
      ],
      "source": [
        "# Example. Answer is 4.0870\n",
        "OptionBlackSholes('put', 75, 70, 0.5, 0.1, 0.05, 0.35)"
      ]
    },
    {
      "cell_type": "code",
      "execution_count": null,
      "metadata": {
        "id": "1P_z0jI3z_hr"
      },
      "outputs": [],
      "source": [
        "def OptionDelta(CallPutFlag, S, K, T, r, b, sigma):\n",
        "    d1 = (np.log(S/K) + (b + sigma ** 2 / 2) * T) / (sigma * np.sqrt(T))\n",
        "    if CallPutFlag == 'call':\n",
        "      c_delta = np.exp((b-r) * T) * norm.cdf(d1)\n",
        "      return c_delta\n",
        "    elif CallPutFlag == 'put':\n",
        "      p_delta = -np.exp((b-r) * T) * norm.cdf(-d1)\n",
        "      return p_delta"
      ]
    },
    {
      "cell_type": "code",
      "execution_count": null,
      "metadata": {
        "colab": {
          "base_uri": "https://localhost:8080/"
        },
        "id": "fro9VIIQz_hr",
        "outputId": "e4bb677e-d35c-45ba-e514-278dfed25fe2"
      },
      "outputs": [
        {
          "data": {
            "text/plain": [
              "1.1273460446414625"
            ]
          },
          "execution_count": 6,
          "metadata": {},
          "output_type": "execute_result"
        }
      ],
      "source": [
        "# Example. Answer is 1.1273\n",
        "OptionDelta('call', 90, 40, 2, 0.03, 0.09, 0.2)"
      ]
    },
    {
      "cell_type": "markdown",
      "metadata": {
        "id": "6zN1rrzHz_hu"
      },
      "source": [
        "##  Опцоны с выбором (Chooser options)\n",
        "Пример 1. Оцените справедливую стоимость опциона, который по истечению трех месяцев дает держателю право выбора: между шестимесячным опционом колл со страйком 55 и семимесячным опционом пут со страйком 48. Базовая цена акций — 50, безрисковая процентная ставка 10% годовых, дивидендная доходность — 5% годовых, а годовая волатильность 35% [Haug 2007, p.130]."
      ]
    },
    {
      "cell_type": "code",
      "execution_count": null,
      "metadata": {
        "id": "pprsnN47z_hu"
      },
      "outputs": [],
      "source": [
        "S = 50\n",
        "K_c = 55\n",
        "K_p = 48\n",
        "T_c = 1/2  # 0.5\n",
        "T_p = 7/12 # 0.5833\n",
        "t = 0.25\n",
        "r = 0.1\n",
        "b = 0.1 - 0.05\n",
        "sigma = 0.35"
      ]
    },
    {
      "cell_type": "code",
      "execution_count": null,
      "metadata": {
        "id": "O_rAGpVkz_hu"
      },
      "outputs": [],
      "source": [
        "# решение уравнения с помощью метода Ньютона-Рафсона\n",
        "\n",
        "def CriticalValueChooser(S, K_c, K_p, T, T_c, T_p, r, b, sigma):\n",
        "    epsilon = 1e-3\n",
        "\n",
        "    Sv = S\n",
        "    c_i = OptionBlackSholes('call', Sv, K_c, K_c - T, r, b, sigma)\n",
        "    p_i = OptionBlackSholes('put', Sv, K_p, T_p - T, r, b, sigma)\n",
        "    d_c = OptionDelta('call', Sv, K_c, T_c - T, r, b, sigma)\n",
        "    d_p = OptionDelta('put', Sv, K_p, T_p - T, r, b, sigma)\n",
        "    y_i = c_i - p_i\n",
        "    d_i = d_c - d_p\n",
        "\n",
        "    while abs(y_i) > epsilon:\n",
        "        Sv = Sv - y_i / d_i\n",
        "        c_i = OptionBlackSholes('call', Sv, K_c, T_c - T, r, b, sigma)\n",
        "        p_i = OptionBlackSholes('put', Sv, K_p, T_p - T, r, b, sigma)\n",
        "        d_c = OptionDelta('call', Sv, K_c, T_c - T, r, b, sigma)\n",
        "        d_p = OptionDelta('put', Sv, K_p, T_p - T, r, b, sigma)\n",
        "        y_i = c_i - p_i\n",
        "        d_i = d_c - d_p\n",
        "\n",
        "    return Sv"
      ]
    },
    {
      "cell_type": "code",
      "execution_count": null,
      "metadata": {
        "id": "83OUYktCz_hv"
      },
      "outputs": [],
      "source": [
        "# оценка справедливой стоимости,  w опциона с выбором\n",
        "def ComplexChooser(S, K_c, K_p, t, T_c, T_p, r, b, sigma):\n",
        "    I = CriticalValueChooser(S, K_c, K_p, t, T_c, T_p, r, b, sigma)\n",
        "    # print('решение уравнения, I= ', I)\n",
        "\n",
        "    d1 = (np.log(S / I) + (b + sigma ** 2 / 2) * t) / (sigma * np.sqrt(t))\n",
        "    d2 = d1 - sigma * np.sqrt(t)\n",
        "\n",
        "    y1 = (np.log(S / K_c) + (b + sigma ** 2 / 2) * T_c) / (sigma * np.sqrt(T_c))\n",
        "    y2 = (np.log(S / K_p) + (b + sigma ** 2 / 2) * T_p) / (sigma * np.sqrt(T_p))\n",
        "\n",
        "    p1 = np.sqrt(t / T_c)\n",
        "    p2 = np.sqrt(t / T_p)\n",
        "\n",
        "    w = S * np.exp((b-r)*T_c) * M(d1, y1, p1) - \\\n",
        "      K_c * np.exp(-r*T_c) * M(d2, y1 - sigma * np.sqrt(T_c), p1) - \\\n",
        "        S * np.exp((b-r) * T_p) * M(-d1, -y2, p2) + \\\n",
        "            K_p * np.exp(-r * T_p) * M(-d2, -y2 + sigma * np.sqrt(T_p), p2)\n",
        "    #print('оценка справедливой стоимости = ', w)\n",
        "\n",
        "    return w"
      ]
    },
    {
      "cell_type": "code",
      "execution_count": null,
      "metadata": {
        "colab": {
          "base_uri": "https://localhost:8080/"
        },
        "id": "ibKzD1Ebz_hv",
        "outputId": "ce87ec32-4db4-4539-871d-dc13807dbb07"
      },
      "outputs": [
        {
          "data": {
            "text/plain": [
              "6.00391974201559"
            ]
          },
          "execution_count": 10,
          "metadata": {},
          "output_type": "execute_result"
        }
      ],
      "source": [
        "# Example. Answer is 6.0508\n",
        "ComplexChooser(S, K_c, K_p, t, T_c, T_p, r, b, sigma)"
      ]
    },
    {
      "cell_type": "markdown",
      "metadata": {
        "id": "o8IJ3a1Az_ht"
      },
      "source": [
        "## Составные опционы\n",
        "\n",
        "Пример 2. Оцените стоимость опциона «пут-на-колл», который дает держателю опциона право продать опцион «колл» за 50 через три месяца. Страйк базового опциона колл составляет 520, срок погашения опциона колл - через шесть месяцев, цена базового актива составляет 500, безрисковая процентная ставка составляет 8%, дивидендная доходность 3% годовых и волатильность 35%."
      ]
    },
    {
      "cell_type": "code",
      "execution_count": null,
      "metadata": {
        "id": "tKYHMNcEz_ht"
      },
      "outputs": [],
      "source": [
        "S = 500\n",
        "K1 = 520\n",
        "K2 = 50\n",
        "t1 = 1/4\n",
        "T2 = 1/2\n",
        "г = 0.08\n",
        "b = 0.08-0.03\n",
        "sigma  = 0.35"
      ]
    },
    {
      "cell_type": "code",
      "execution_count": null,
      "metadata": {
        "id": "qQm9JiVRxFOL"
      },
      "outputs": [],
      "source": [
        "# решение уравнения с помощью метода Ньютона-Рафсона\n",
        "def CriticalValueOptionsOnOptions(CallPutFlag, K1, K2, T, r, b, sigma):\n",
        "    Si = K1\n",
        "    ci = OptionBlackSholes(CallPutFlag, Si, K1, T, r, b, sigma)\n",
        "    di = OptionDelta(CallPutFlag, Si, K1, T, r, b, sigma)\n",
        "    epsilon = 1e-6\n",
        "\n",
        "    while abs(ci - K2) > epsilon:\n",
        "        Si = Si - (ci - K2) / di\n",
        "        ci = OptionBlackSholes(CallPutFlag, Si, K1, T, r, b, sigma)\n",
        "        di = OptionDelta(CallPutFlag, Si, K1, T, r, b, sigma)\n",
        "\n",
        "    return Si"
      ]
    },
    {
      "cell_type": "code",
      "execution_count": null,
      "metadata": {
        "id": "E9xGpsb9z_hu"
      },
      "outputs": [],
      "source": [
        "# оценка справедливой стоимости составного опциона\n",
        "\n",
        "def OptionsOnOptions(TypeFlag, S, K1, K2, t1, T2, r, b, sigma):\n",
        "\n",
        "    if TypeFlag == 'call-on-call' or TypeFlag == 'put-on-call':\n",
        "        CallPutFlag = 'call'\n",
        "    else:\n",
        "        CallPutFlag = 'put'\n",
        "\n",
        "    i = CriticalValueOptionsOnOptions(CallPutFlag, K1, K2, T2 - t1, r, b, sigma)\n",
        "\n",
        "    rho = np.sqrt(t1/T2)\n",
        "\n",
        "    y1 = (np.log(S / i) + (b + sigma ** 2 / 2) * t1) / (sigma * np.sqrt(t1))\n",
        "    y2 = y1 - sigma * np.sqrt(t1)\n",
        "    z1 = (np.log(S/K1) + (b + sigma **2 / 2) * T2) / (sigma * np.sqrt(T2))\n",
        "    z2 = z1 - sigma * np.sqrt(T2)\n",
        "\n",
        "    if TypeFlag == 'call-on-call':\n",
        "        return S * np.exp((b-r) * T2) * M(z1, y1, rho) - \\\n",
        "            K1 * np.exp(-r * T2) * M(z2, y2, rho) - \\\n",
        "                K2 * np.exp(-r * t1) * norm.cdf(y2)\n",
        "    elif TypeFlag == 'put-on-call':\n",
        "        return K1 * np.exp(-r * T2) * M(z2, -y2, -rho) - \\\n",
        "            S * np.exp((b-r) * T2) * M(z1, -y1, -rho) + \\\n",
        "                K2 * np.exp(-r * t1) * norm.cdf(-y2)\n",
        "    elif TypeFlag == 'call-on-put':\n",
        "        return  K1 * np.exp(-r * T2) * M(-z2, -y2, rho) - \\\n",
        "            S * np.exp((b-r) * T2) * M(-z1, -y1, rho) - \\\n",
        "                K2 * np.exp(-r * t1) * norm.cdf(-y2)\n",
        "    elif TypeFlag == 'put-on-put':\n",
        "        return S * np.exp((b-r) * T2) * M(-z1, y1, -rho) - \\\n",
        "            K1 * np.exp(-r * T2) * M(-z2, y2, -rho) + \\\n",
        "                np.exp(-r * t1) * K2 * norm.cdf(y2)"
      ]
    },
    {
      "cell_type": "code",
      "execution_count": null,
      "metadata": {
        "colab": {
          "base_uri": "https://localhost:8080/"
        },
        "id": "8-_otceFz_hu",
        "outputId": "f04d7bf1-f5d5-43ae-d4ce-5e263afe0458"
      },
      "outputs": [
        {
          "data": {
            "text/plain": [
              "21.196205693039495"
            ]
          },
          "execution_count": 14,
          "metadata": {},
          "output_type": "execute_result"
        }
      ],
      "source": [
        "# Example. Answer is 21.1965\n",
        "OptionsOnOptions('put-on-call', 500, 520, 50, 1/4, 1/2, 0.08, 0.05, 0.35)"
      ]
    },
    {
      "cell_type": "code",
      "execution_count": null,
      "metadata": {
        "id": "aMTBJNzLUVN5"
      },
      "outputs": [],
      "source": [
        "# В условиях примера 2 написать функцию для оценки стоимости сложного опциона с использованием встроенной функции\n",
        "# multivariate_normal.pdf() и сравнить результаты\n",
        "\n",
        "def OptionsOnOptions_CBND(TypeFlag, S, K1, K2, t1, T2, r, b, sigma):\n",
        "    if TypeFlag == 'call-on-call' or TypeFlag == 'put-on-call':\n",
        "        CallPutFlag = 'call'\n",
        "    else:\n",
        "        CallPutFlag = 'put'\n",
        "\n",
        "    #S_star = CriticalValueOptionsOnOptions(CallPutFlag, K1, K2, abs(T2 - t1), r, b, sigma)\n",
        "    S_star = 90\n",
        "    rho = np.sqrt(t1/T2)\n",
        "    sigma1 = 1\n",
        "    sigma2 = 1\n",
        "    mu1 = 0.0\n",
        "    mu2 = 0.0\n",
        "    y1 = (np.log(S / S_star) + (b + sigma ** 2 / 2) * t1) / (sigma * np.sqrt(t1))\n",
        "    y2 = y1 - sigma * np.sqrt(t1)\n",
        "    z1 = (np.log(S/K1) + (b + sigma **2 / 2) * T2) / (sigma * np.sqrt(T2))\n",
        "    z2 = z1 - sigma * np.sqrt(T2)\n",
        "    if TypeFlag == 'call-on-call':\n",
        "        cov_matrix = np.array([[1 * sigma1**2, rho * sigma1 * sigma2],\n",
        "                            [rho * sigma1 * sigma2, 1 * sigma2**2]])\n",
        "        mv1 = multivariate_normal.cdf([z1, y1],[mu1, mu2] , cov_matrix)\n",
        "        mv2 = multivariate_normal.cdf([z2, y2],[mu1, mu2] , cov_matrix)\n",
        "        return S * np.exp((b-r) * T2) * mv1- \\\n",
        "            K1 * np.exp(-r * T2) * mv2 - \\\n",
        "                K2 * np.exp(-r * t1) * norm.cdf(y2)\n",
        "    elif TypeFlag == 'put-on-call':\n",
        "        cov_matrix = np.array([[1 * sigma1**2, -rho * sigma1 * sigma2],\n",
        "                            [-rho * sigma1 * sigma2, 1 * sigma2**2]])\n",
        "        mv1 = multivariate_normal.cdf([z2, -y2],[mu1, mu2] , cov_matrix)\n",
        "        mv2 = multivariate_normal.cdf([z1, -y1],[mu1, mu2] , cov_matrix)\n",
        "        return K1 * np.exp(-r * T2) * mv1 - \\\n",
        "            S * np.exp((b-r) * T2) * mv2 + \\\n",
        "                K2 * np.exp(-r * t1) * norm.cdf(-y2)\n",
        "    elif TypeFlag == 'call-on-put':\n",
        "        cov_matrix = np.array([[1 * sigma1**2, rho * sigma1 * sigma2],\n",
        "                            [rho * sigma1 * sigma2, 1 * sigma2**2]])\n",
        "        mv1 = multivariate_normal.cdf([-z2, -y2],[mu1, mu2] , cov_matrix)\n",
        "        mv2 = multivariate_normal.cdf([-z1, -y1],[mu1, mu2] , cov_matrix)\n",
        "        return  K1 * np.exp(-r * T2) * mv1 - \\\n",
        "            S * np.exp((b-r) * T2) * mv2 - \\\n",
        "                K2 * np.exp(-r * t1) * norm.cdf(-y2)\n",
        "    elif TypeFlag == 'put-on-put':\n",
        "        cov_matrix = np.array([[1 * sigma1**2, -rho * sigma1 * sigma2],\n",
        "                            [-rho * sigma1 * sigma2, 1 * sigma2**2]])\n",
        "\n",
        "        mv1 = multivariate_normal.cdf([-z1, y1],[mu1, mu2] , cov_matrix)\n",
        "        mv2 = multivariate_normal.cdf([-z2, y2],[mu1, mu2] , cov_matrix)\n",
        "\n",
        "        return S * np.exp((b-r) * T2) * mv1 - \\\n",
        "            K1 * np.exp(-r * T2) * mv2 + \\\n",
        "                np.exp(-r * t1) * K2 * norm.cdf(y2)\n"
      ]
    },
    {
      "cell_type": "code",
      "execution_count": null,
      "metadata": {
        "id": "ZNeeF1fVJ38N",
        "outputId": "2240049b-f992-45d7-973b-aa6284f47a0a"
      },
      "outputs": [
        {
          "data": {
            "text/plain": [
              "(21.196205693039495, 21.196350394352358)"
            ]
          },
          "execution_count": 17,
          "metadata": {},
          "output_type": "execute_result"
        }
      ],
      "source": [
        "# Example. Answer is 21.1965\n",
        "OptionsOnOptions('put-on-call', 500, 520, 50, 1/4, 1/2, 0.08, 0.05, 0.35) , OptionsOnOptions_CBND('put-on-call', 500, 520, 50, 1/4, 1/2, 0.08, 0.05, 0.35)"
      ]
    },
    {
      "cell_type": "markdown",
      "metadata": {
        "id": "4eZHuC_yJOCj"
      },
      "source": [
        "Задача 1. Предположим, что применима модель Блэка-Шоулза. Текущая цена акции 80, по ним выплачиваются дивиденды по ставке 2\\%, волатильность 30\\%, безрисковая процентная ставка составляет 6\\%. Рассмотрим сложный опцион колл на пут. Срок действия базового опциона пут истекает через 4 года, а цена исполнения составляет 90. Срок действия сложного опциона истекает через один год, цена исполнения составляет 13, а стоимость составляет 5,20. Найдите цену составного опциона пут с тем же базовым опционом, что и составной колл."
      ]
    },
    {
      "cell_type": "code",
      "execution_count": null,
      "metadata": {
        "id": "nUmQ86IPJ38N",
        "outputId": "baedbb8d-21f6-423c-d601-5672894d510a"
      },
      "outputs": [
        {
          "name": "stdout",
          "output_type": "stream",
          "text": [
            "call-on-put 5.206781031593616\n",
            "put-on-put 2.1060836765455235\n"
          ]
        }
      ],
      "source": [
        "S = 80\n",
        "b = 0.04\n",
        "sigma = 0.3\n",
        "r = 0.06\n",
        "T2 = 4\n",
        "K2 = 13\n",
        "T1 = 1\n",
        "K1 = 90\n",
        "option_type1 = 'call-on-put'\n",
        "option_type2 = 'put-on-put'\n",
        "#option_price = 5.20\n",
        "option1 = OptionsOnOptions_CBND(option_type1, S, K1, K2, T1, T2 - T1, r, b, sigma)\n",
        "option2 = OptionsOnOptions_CBND(option_type2, S, K1, K2, T1, T2 - T1, r, b, sigma)\n",
        "print(option_type1, option1)\n",
        "print(option_type2, option2)"
      ]
    },
    {
      "cell_type": "markdown",
      "metadata": {
        "id": "0zxzPKpHTPEi"
      },
      "source": [
        "## Опционы с последействием, плавающий страйк"
      ]
    },
    {
      "cell_type": "markdown",
      "metadata": {
        "id": "WWnmIOgYKms5"
      },
      "source": [
        "Пример 3. В рамках можели Блэка-Шоулза оцените опционы с последейстием на недивидендные акции. Если цена акции равна 50, волатильность цены акции составляет 40% в год, безрисковая ставка составляет 10% годовых, срок погашения - 3 месяца."
      ]
    },
    {
      "cell_type": "code",
      "execution_count": null,
      "metadata": {
        "id": "DL7tbKYeKog5"
      },
      "outputs": [],
      "source": [
        "q = 0\n",
        "r = 0.1\n",
        "b = r - q\n",
        "S0 = 50\n",
        "sigma = 0.4\n",
        "T = 3 / 12"
      ]
    },
    {
      "cell_type": "code",
      "execution_count": null,
      "metadata": {
        "colab": {
          "base_uri": "https://localhost:8080/"
        },
        "id": "jIoRfiFOLv6J",
        "outputId": "11cfa14c-9d03-4f3c-e9d2-f5a5c366a60b"
      },
      "outputs": [
        {
          "name": "stdout",
          "output_type": "stream",
          "text": [
            "Floating-strike call price: 8.037120139607019\n",
            "Floating-strike put price: 7.790219259890344\n"
          ]
        }
      ],
      "source": [
        "Smin = Smax = S0\n",
        "# оценка справедливой стоимости лукбек опциона колл с плавающим страйком\n",
        "def FloatingLookback_Call(S0, Smin, T, r, q, sigma):\n",
        "  a1 = (np.log(S0 /Smin) + (r - q + 0.5 * sigma ** 2) * T) / \\\n",
        "           (sigma * np.sqrt(T))\n",
        "  a2 = a1 - sigma * np.sqrt(T)\n",
        "  a3 = (np.log(S0 /Smin) + (-r + q + 0.5 * sigma ** 2) * T) / \\\n",
        "           (sigma * np.sqrt(T))\n",
        "  Y1 = -(2 / (sigma ** 2)) * (r - q - 0.5 * sigma ** 2) * np.log(S0 / Smin)\n",
        "  z1 = 0.5 * sigma ** 2 / (r - q)\n",
        "  c_fl = S0 * np.exp(-q * T) * (norm.cdf(a1) - z1 * norm.cdf(-a1)) - \\\n",
        "       Smin * np.exp(-r * T) * (norm.cdf(a2) - z1 * np.exp(Y1) * norm.cdf(-a3))\n",
        "  return c_fl\n",
        "\n",
        "# оценка справедливой стоимости лукбек опциона пут с плавающим страйком\n",
        "def FloatingLookback_Put(S0, Smax, T, r, q, sigma):\n",
        "  b1 =  (np.log(Smax/S0) + (-r + q + 0.5 * sigma ** 2) * T) / \\\n",
        "           (sigma * np.sqrt(T))\n",
        "\n",
        "  b2 = b1- sigma * np.sqrt(T)\n",
        "  b3 = (np.log(Smax / S0) + (r - q - 0.5 * sigma ** 2) * T) / \\\n",
        "           (sigma * np.sqrt(T))\n",
        "  Y2 = (2 / (sigma ** 2)) * (r - q - 0.5 * sigma ** 2) * np.log(Smax / S0)\n",
        "  z1 = 0.5 * sigma ** 2 / (r - q)\n",
        "  p_fl = Smax * np.exp(-r * T) * (norm.cdf(b1) - z1 * np.exp(Y2) * norm.cdf(-b3)) + \\\n",
        "     S0 * np.exp(-q * T) * (z1 * norm.cdf(-b2) - norm.cdf(b2))\n",
        "  return p_fl\n",
        "\n",
        "print('Floating-strike call price:', FloatingLookback_Call(S0, Smin, T, r, q, sigma))\n",
        "print('Floating-strike put price:',  FloatingLookback_Put(S0, Smax, T, r, q, sigma))"
      ]
    },
    {
      "cell_type": "markdown",
      "metadata": {
        "id": "RivVFvEjz_hw"
      },
      "source": [
        "Задача. Допустим, что имеется лукбек опцион колл с датой экпирации через шесть месяцев. Данный опцион дает право купить базовый актив (фондовый индекс) по самой низкой цене, наблюдаемой в течение срока действия опциона. Минимальная значение фондового индекса, наблюдаемое на данный момент, составляет 100, цена базового актива - 120, безрисковая процентная ставка - 10%, дивидендная доходность — 6%, волатильность — 30%. Оцените справедливую стоимость опциона с плавающим страйком (Hang, 2007, p. 143)."
      ]
    },
    {
      "cell_type": "code",
      "execution_count": null,
      "metadata": {
        "id": "qZGgeErvz_hw",
        "outputId": "6e42413a-cbb9-4385-c310-857da0f08b33"
      },
      "outputs": [
        {
          "name": "stdout",
          "output_type": "stream",
          "text": [
            "Floating-strike call price: 25.353355271810187\n"
          ]
        }
      ],
      "source": [
        "r = 0.1\n",
        "q = 0.06\n",
        "S = 120\n",
        "sigma = 0.3\n",
        "T = 1/2\n",
        "Smax = 120\n",
        "Smin = 100\n",
        "print('Floating-strike call price:', FloatingLookback_Call(S, Smin, T, r, q, sigma))\n"
      ]
    },
    {
      "cell_type": "markdown",
      "metadata": {
        "id": "ATf2SUL4RAPR"
      },
      "source": [
        "Задача. В условиях примера 3 найти оценку справедливой стоимости лукбек опциона пут с плавающим страйком через паритет опционов и сравнить результаты."
      ]
    },
    {
      "cell_type": "code",
      "execution_count": null,
      "metadata": {
        "id": "jSbHXsUVJ38O",
        "outputId": "50629876-b562-4771-e6a6-5ef970fac631"
      },
      "outputs": [
        {
          "name": "stdout",
          "output_type": "stream",
          "text": [
            "Floating-strike call price: 25.353355271810187\n",
            "Floating-strike put price: 19.724502072028894\n",
            "put option parity price 4.022833696060616\n"
          ]
        }
      ],
      "source": [
        "print('Floating-strike call price:', FloatingLookback_Call(S, Smin, T, r, q, sigma))\n",
        "print('Floating-strike put price:', FloatingLookback_Put(S, Smax, T, r, q, sigma))\n",
        "print('put option parity price', FloatingLookback_Call(S, Smin, T, r, q, sigma) - np.exp(-q*T) * S  + np.exp(-r*T) * Smin)\n"
      ]
    },
    {
      "cell_type": "markdown",
      "metadata": {
        "id": "KRSDu-hORXSv"
      },
      "source": [
        "##  Опционы с последействием, фиксированный страйк\n",
        "\n",
        "Пример 4 ([Nang, 2007, p. 145](https://drive.google.com/file/d/1yxjRkchVqvl2xkQFyeB2BKNQ1SKJSTtK/view?usp=drive_link)). Заполните таблицу для лукбек опционов колл и пут с фиксированным страйком для разных значений дат экспираций T = 0,5, 1,0, цен исполнения K = 95, 100, 105 и волатильностями σ = 0,1, 0,2, 0,3. Безриская ставка 10%, по базовому активу дивиденды не выплачиваются. Максимальная, минимальная цены базового актива и цена базового актива в текущий момент одинаковые и равны 100."
      ]
    },
    {
      "cell_type": "code",
      "execution_count": null,
      "metadata": {
        "id": "OPwwwdfqz_hx"
      },
      "outputs": [],
      "source": [
        "# оценка справедливой стоимости лукбек опциона колл с фиксированным страйком\n",
        "def FixedStrikeLookbackCall(S, K, S_max, T, q, r, sigma):\n",
        "\n",
        "    if K <= S_max:\n",
        "        e1 = (np.log(S/S_max) + (r-q + sigma ** 2 / 2) * T) / (sigma * np.sqrt(T))\n",
        "        e2 = e1 - sigma * np.sqrt(T)\n",
        "        c_fix = np.exp(-r*T)*(S_max - K) + S * np.exp(-q*T)*norm.cdf(e1)-S_max*np.exp(-r*T)*norm.cdf(e2) + \\\n",
        "            S*np.exp(-r*T)*(sigma**2/(2*(r-q)))*(-np.power(S/S_max,-2*(r-q)/sigma**2) * norm.cdf(e1 - (2*(r-q)*np.sqrt(T)/sigma)) + np.exp((r-q)*T)*norm.cdf(e1))\n",
        "\n",
        "        return c_fix\n",
        "\n",
        "    elif K > S_max:\n",
        "        d1 = (np.log(S/K) + (r-q + sigma ** 2 / 2) * T) / (sigma * np.sqrt(T))\n",
        "        d2 = d1 - sigma * np.sqrt(T)\n",
        "\n",
        "        c_fix = S * np.exp(-q * T) * norm.cdf(d1) - K * np.exp(-r*T)*norm.cdf(d2) + \\\n",
        "            S * np.exp(-r*T)*(sigma**2/(2*(r-q)))*(-np.power(S/K, -2*(r-q)/sigma**2) * norm.cdf(d1 - (2*(r-q)*np.sqrt(T)/sigma)) + np.exp((r-q)*T)*norm.cdf(d1))\n",
        "\n",
        "        return c_fix"
      ]
    },
    {
      "cell_type": "code",
      "execution_count": null,
      "metadata": {
        "id": "L3Tk4d7gz_hx"
      },
      "outputs": [],
      "source": [
        "# оценка справедливой стоимости лукбек опциона пут с фиксированным страйком\n",
        "def FixedStrikeLookbackPut(S, K, Smin, T, q, r, sigma):\n",
        "\n",
        "    if K < Smin:\n",
        "        d1 = (np.log(S/K) + (r-q + sigma ** 2 / 2) * T) / (sigma * np.sqrt(T))\n",
        "        d2 = d1 - sigma * np.sqrt(T)\n",
        "        p_fix = K * np.exp(-r*T)*norm.cdf(-d2) - S * np.exp(-q*T)*norm.cdf(-d1) + \\\n",
        "            S * np.exp(-r*T)*(sigma**2/(2*(r-q))) * (np.power(S/K, -2*(r-q)/sigma**2)*norm.cdf(-d1 + 2 * (r-q)*np.sqrt(T)/sigma) - np.exp((r-q)*T)*norm.cdf(-d1))\n",
        "        return p_fix\n",
        "\n",
        "    elif K >= Smin:\n",
        "        f1 = (np.log(S/S_min) + (r-q+sigma**2/2)*T)/(sigma*np.sqrt(T))\n",
        "        f2 = f1 - sigma * np.sqrt(T)\n",
        "        p_fix = (K - Smin)*np.exp(-r*T) - S * np.exp(-q*T)*norm.cdf(-f1) + Smin*np.exp(-r*T)*norm.cdf(-f2) +\\\n",
        "            S*np.exp(-r*T)*(sigma**2/(2*(r-q)))*(np.power(S/Smin, -2*(r-q)/sigma**2)*norm.cdf(-f1+2*(r-q)*np.sqrt(T)/sigma) - np.exp((r-q)*T) * norm.cdf(-f1))\n",
        "        return p_fix"
      ]
    },
    {
      "cell_type": "code",
      "execution_count": null,
      "metadata": {
        "id": "2bIZNpqSyG3L"
      },
      "outputs": [],
      "source": [
        "price_function = {\n",
        "    'call' : FixedStrikeLookbackCall,\n",
        "    'put' : FixedStrikeLookbackPut\n",
        "}\n",
        "\n",
        "S = S_min = S_max = 100\n",
        "q=0\n",
        "r=0.1\n",
        "prices_df = pd.DataFrame([\n",
        "    {\n",
        "        'T': T,\n",
        "        'K': K,\n",
        "        'sigma': sigma,\n",
        "        'side': side,\n",
        "        'price': price_function[side](S, K, S_min, T, q, r, sigma)\n",
        "    }\n",
        "    for T in [0.5, 1.0]\n",
        "    for K in [95, 100, 105]\n",
        "    for sigma in [0.1, 0.2, 0.3]\n",
        "    for side in ['call', 'put']\n",
        "])"
      ]
    },
    {
      "cell_type": "code",
      "execution_count": null,
      "metadata": {
        "colab": {
          "base_uri": "https://localhost:8080/",
          "height": 300
        },
        "id": "bCQTRQwEEslx",
        "outputId": "b86bc38e-9625-4376-e14a-fdd8aefba135"
      },
      "outputs": [
        {
          "output_type": "execute_result",
          "data": {
            "text/plain": [
              "side          call                             put                      \n",
              "sigma          0.1        0.2        0.3       0.1        0.2        0.3\n",
              "T   K                                                                   \n",
              "0.5 95   13.268722  18.926337  24.985760  0.689933   4.444777   8.921302\n",
              "    100   8.512575  14.170190  20.229613  3.391665   8.317721  13.157880\n",
              "    105   4.390794   9.890532  15.851199  8.147812  13.073868  17.914027\n",
              "1.0 95   18.324153  26.073055  34.711618  1.053367   6.281345  12.237535\n",
              "    100  13.799966  21.548868  30.187431  3.807895  10.129358  16.388857\n",
              "    105   9.544490  17.296480  25.900190  8.332082  14.653545  20.913044"
            ],
            "text/html": [
              "\n",
              "  <div id=\"df-51007a96-4e82-43b8-bbfb-f77894cbfa99\" class=\"colab-df-container\">\n",
              "    <div>\n",
              "<style scoped>\n",
              "    .dataframe tbody tr th:only-of-type {\n",
              "        vertical-align: middle;\n",
              "    }\n",
              "\n",
              "    .dataframe tbody tr th {\n",
              "        vertical-align: top;\n",
              "    }\n",
              "\n",
              "    .dataframe thead tr th {\n",
              "        text-align: left;\n",
              "    }\n",
              "\n",
              "    .dataframe thead tr:last-of-type th {\n",
              "        text-align: right;\n",
              "    }\n",
              "</style>\n",
              "<table border=\"1\" class=\"dataframe\">\n",
              "  <thead>\n",
              "    <tr>\n",
              "      <th></th>\n",
              "      <th>side</th>\n",
              "      <th colspan=\"3\" halign=\"left\">call</th>\n",
              "      <th colspan=\"3\" halign=\"left\">put</th>\n",
              "    </tr>\n",
              "    <tr>\n",
              "      <th></th>\n",
              "      <th>sigma</th>\n",
              "      <th>0.1</th>\n",
              "      <th>0.2</th>\n",
              "      <th>0.3</th>\n",
              "      <th>0.1</th>\n",
              "      <th>0.2</th>\n",
              "      <th>0.3</th>\n",
              "    </tr>\n",
              "    <tr>\n",
              "      <th>T</th>\n",
              "      <th>K</th>\n",
              "      <th></th>\n",
              "      <th></th>\n",
              "      <th></th>\n",
              "      <th></th>\n",
              "      <th></th>\n",
              "      <th></th>\n",
              "    </tr>\n",
              "  </thead>\n",
              "  <tbody>\n",
              "    <tr>\n",
              "      <th rowspan=\"3\" valign=\"top\">0.5</th>\n",
              "      <th>95</th>\n",
              "      <td>13.268722</td>\n",
              "      <td>18.926337</td>\n",
              "      <td>24.985760</td>\n",
              "      <td>0.689933</td>\n",
              "      <td>4.444777</td>\n",
              "      <td>8.921302</td>\n",
              "    </tr>\n",
              "    <tr>\n",
              "      <th>100</th>\n",
              "      <td>8.512575</td>\n",
              "      <td>14.170190</td>\n",
              "      <td>20.229613</td>\n",
              "      <td>3.391665</td>\n",
              "      <td>8.317721</td>\n",
              "      <td>13.157880</td>\n",
              "    </tr>\n",
              "    <tr>\n",
              "      <th>105</th>\n",
              "      <td>4.390794</td>\n",
              "      <td>9.890532</td>\n",
              "      <td>15.851199</td>\n",
              "      <td>8.147812</td>\n",
              "      <td>13.073868</td>\n",
              "      <td>17.914027</td>\n",
              "    </tr>\n",
              "    <tr>\n",
              "      <th rowspan=\"3\" valign=\"top\">1.0</th>\n",
              "      <th>95</th>\n",
              "      <td>18.324153</td>\n",
              "      <td>26.073055</td>\n",
              "      <td>34.711618</td>\n",
              "      <td>1.053367</td>\n",
              "      <td>6.281345</td>\n",
              "      <td>12.237535</td>\n",
              "    </tr>\n",
              "    <tr>\n",
              "      <th>100</th>\n",
              "      <td>13.799966</td>\n",
              "      <td>21.548868</td>\n",
              "      <td>30.187431</td>\n",
              "      <td>3.807895</td>\n",
              "      <td>10.129358</td>\n",
              "      <td>16.388857</td>\n",
              "    </tr>\n",
              "    <tr>\n",
              "      <th>105</th>\n",
              "      <td>9.544490</td>\n",
              "      <td>17.296480</td>\n",
              "      <td>25.900190</td>\n",
              "      <td>8.332082</td>\n",
              "      <td>14.653545</td>\n",
              "      <td>20.913044</td>\n",
              "    </tr>\n",
              "  </tbody>\n",
              "</table>\n",
              "</div>\n",
              "    <div class=\"colab-df-buttons\">\n",
              "\n",
              "  <div class=\"colab-df-container\">\n",
              "    <button class=\"colab-df-convert\" onclick=\"convertToInteractive('df-51007a96-4e82-43b8-bbfb-f77894cbfa99')\"\n",
              "            title=\"Convert this dataframe to an interactive table.\"\n",
              "            style=\"display:none;\">\n",
              "\n",
              "  <svg xmlns=\"http://www.w3.org/2000/svg\" height=\"24px\" viewBox=\"0 -960 960 960\">\n",
              "    <path d=\"M120-120v-720h720v720H120Zm60-500h600v-160H180v160Zm220 220h160v-160H400v160Zm0 220h160v-160H400v160ZM180-400h160v-160H180v160Zm440 0h160v-160H620v160ZM180-180h160v-160H180v160Zm440 0h160v-160H620v160Z\"/>\n",
              "  </svg>\n",
              "    </button>\n",
              "\n",
              "  <style>\n",
              "    .colab-df-container {\n",
              "      display:flex;\n",
              "      gap: 12px;\n",
              "    }\n",
              "\n",
              "    .colab-df-convert {\n",
              "      background-color: #E8F0FE;\n",
              "      border: none;\n",
              "      border-radius: 50%;\n",
              "      cursor: pointer;\n",
              "      display: none;\n",
              "      fill: #1967D2;\n",
              "      height: 32px;\n",
              "      padding: 0 0 0 0;\n",
              "      width: 32px;\n",
              "    }\n",
              "\n",
              "    .colab-df-convert:hover {\n",
              "      background-color: #E2EBFA;\n",
              "      box-shadow: 0px 1px 2px rgba(60, 64, 67, 0.3), 0px 1px 3px 1px rgba(60, 64, 67, 0.15);\n",
              "      fill: #174EA6;\n",
              "    }\n",
              "\n",
              "    .colab-df-buttons div {\n",
              "      margin-bottom: 4px;\n",
              "    }\n",
              "\n",
              "    [theme=dark] .colab-df-convert {\n",
              "      background-color: #3B4455;\n",
              "      fill: #D2E3FC;\n",
              "    }\n",
              "\n",
              "    [theme=dark] .colab-df-convert:hover {\n",
              "      background-color: #434B5C;\n",
              "      box-shadow: 0px 1px 3px 1px rgba(0, 0, 0, 0.15);\n",
              "      filter: drop-shadow(0px 1px 2px rgba(0, 0, 0, 0.3));\n",
              "      fill: #FFFFFF;\n",
              "    }\n",
              "  </style>\n",
              "\n",
              "    <script>\n",
              "      const buttonEl =\n",
              "        document.querySelector('#df-51007a96-4e82-43b8-bbfb-f77894cbfa99 button.colab-df-convert');\n",
              "      buttonEl.style.display =\n",
              "        google.colab.kernel.accessAllowed ? 'block' : 'none';\n",
              "\n",
              "      async function convertToInteractive(key) {\n",
              "        const element = document.querySelector('#df-51007a96-4e82-43b8-bbfb-f77894cbfa99');\n",
              "        const dataTable =\n",
              "          await google.colab.kernel.invokeFunction('convertToInteractive',\n",
              "                                                    [key], {});\n",
              "        if (!dataTable) return;\n",
              "\n",
              "        const docLinkHtml = 'Like what you see? Visit the ' +\n",
              "          '<a target=\"_blank\" href=https://colab.research.google.com/notebooks/data_table.ipynb>data table notebook</a>'\n",
              "          + ' to learn more about interactive tables.';\n",
              "        element.innerHTML = '';\n",
              "        dataTable['output_type'] = 'display_data';\n",
              "        await google.colab.output.renderOutput(dataTable, element);\n",
              "        const docLink = document.createElement('div');\n",
              "        docLink.innerHTML = docLinkHtml;\n",
              "        element.appendChild(docLink);\n",
              "      }\n",
              "    </script>\n",
              "  </div>\n",
              "\n",
              "\n",
              "<div id=\"df-fc4f7397-6c01-4a97-bc45-f972522b792e\">\n",
              "  <button class=\"colab-df-quickchart\" onclick=\"quickchart('df-fc4f7397-6c01-4a97-bc45-f972522b792e')\"\n",
              "            title=\"Suggest charts\"\n",
              "            style=\"display:none;\">\n",
              "\n",
              "<svg xmlns=\"http://www.w3.org/2000/svg\" height=\"24px\"viewBox=\"0 0 24 24\"\n",
              "     width=\"24px\">\n",
              "    <g>\n",
              "        <path d=\"M19 3H5c-1.1 0-2 .9-2 2v14c0 1.1.9 2 2 2h14c1.1 0 2-.9 2-2V5c0-1.1-.9-2-2-2zM9 17H7v-7h2v7zm4 0h-2V7h2v10zm4 0h-2v-4h2v4z\"/>\n",
              "    </g>\n",
              "</svg>\n",
              "  </button>\n",
              "\n",
              "<style>\n",
              "  .colab-df-quickchart {\n",
              "      --bg-color: #E8F0FE;\n",
              "      --fill-color: #1967D2;\n",
              "      --hover-bg-color: #E2EBFA;\n",
              "      --hover-fill-color: #174EA6;\n",
              "      --disabled-fill-color: #AAA;\n",
              "      --disabled-bg-color: #DDD;\n",
              "  }\n",
              "\n",
              "  [theme=dark] .colab-df-quickchart {\n",
              "      --bg-color: #3B4455;\n",
              "      --fill-color: #D2E3FC;\n",
              "      --hover-bg-color: #434B5C;\n",
              "      --hover-fill-color: #FFFFFF;\n",
              "      --disabled-bg-color: #3B4455;\n",
              "      --disabled-fill-color: #666;\n",
              "  }\n",
              "\n",
              "  .colab-df-quickchart {\n",
              "    background-color: var(--bg-color);\n",
              "    border: none;\n",
              "    border-radius: 50%;\n",
              "    cursor: pointer;\n",
              "    display: none;\n",
              "    fill: var(--fill-color);\n",
              "    height: 32px;\n",
              "    padding: 0;\n",
              "    width: 32px;\n",
              "  }\n",
              "\n",
              "  .colab-df-quickchart:hover {\n",
              "    background-color: var(--hover-bg-color);\n",
              "    box-shadow: 0 1px 2px rgba(60, 64, 67, 0.3), 0 1px 3px 1px rgba(60, 64, 67, 0.15);\n",
              "    fill: var(--button-hover-fill-color);\n",
              "  }\n",
              "\n",
              "  .colab-df-quickchart-complete:disabled,\n",
              "  .colab-df-quickchart-complete:disabled:hover {\n",
              "    background-color: var(--disabled-bg-color);\n",
              "    fill: var(--disabled-fill-color);\n",
              "    box-shadow: none;\n",
              "  }\n",
              "\n",
              "  .colab-df-spinner {\n",
              "    border: 2px solid var(--fill-color);\n",
              "    border-color: transparent;\n",
              "    border-bottom-color: var(--fill-color);\n",
              "    animation:\n",
              "      spin 1s steps(1) infinite;\n",
              "  }\n",
              "\n",
              "  @keyframes spin {\n",
              "    0% {\n",
              "      border-color: transparent;\n",
              "      border-bottom-color: var(--fill-color);\n",
              "      border-left-color: var(--fill-color);\n",
              "    }\n",
              "    20% {\n",
              "      border-color: transparent;\n",
              "      border-left-color: var(--fill-color);\n",
              "      border-top-color: var(--fill-color);\n",
              "    }\n",
              "    30% {\n",
              "      border-color: transparent;\n",
              "      border-left-color: var(--fill-color);\n",
              "      border-top-color: var(--fill-color);\n",
              "      border-right-color: var(--fill-color);\n",
              "    }\n",
              "    40% {\n",
              "      border-color: transparent;\n",
              "      border-right-color: var(--fill-color);\n",
              "      border-top-color: var(--fill-color);\n",
              "    }\n",
              "    60% {\n",
              "      border-color: transparent;\n",
              "      border-right-color: var(--fill-color);\n",
              "    }\n",
              "    80% {\n",
              "      border-color: transparent;\n",
              "      border-right-color: var(--fill-color);\n",
              "      border-bottom-color: var(--fill-color);\n",
              "    }\n",
              "    90% {\n",
              "      border-color: transparent;\n",
              "      border-bottom-color: var(--fill-color);\n",
              "    }\n",
              "  }\n",
              "</style>\n",
              "\n",
              "  <script>\n",
              "    async function quickchart(key) {\n",
              "      const quickchartButtonEl =\n",
              "        document.querySelector('#' + key + ' button');\n",
              "      quickchartButtonEl.disabled = true;  // To prevent multiple clicks.\n",
              "      quickchartButtonEl.classList.add('colab-df-spinner');\n",
              "      try {\n",
              "        const charts = await google.colab.kernel.invokeFunction(\n",
              "            'suggestCharts', [key], {});\n",
              "      } catch (error) {\n",
              "        console.error('Error during call to suggestCharts:', error);\n",
              "      }\n",
              "      quickchartButtonEl.classList.remove('colab-df-spinner');\n",
              "      quickchartButtonEl.classList.add('colab-df-quickchart-complete');\n",
              "    }\n",
              "    (() => {\n",
              "      let quickchartButtonEl =\n",
              "        document.querySelector('#df-fc4f7397-6c01-4a97-bc45-f972522b792e button');\n",
              "      quickchartButtonEl.style.display =\n",
              "        google.colab.kernel.accessAllowed ? 'block' : 'none';\n",
              "    })();\n",
              "  </script>\n",
              "</div>\n",
              "    </div>\n",
              "  </div>\n"
            ],
            "application/vnd.google.colaboratory.intrinsic+json": {
              "type": "dataframe",
              "summary": "{\n  \"name\": \"pd\",\n  \"rows\": 6,\n  \"fields\": [\n    {\n      \"column\": [\n        \"call\",\n        0.1\n      ],\n      \"properties\": {\n        \"dtype\": \"number\",\n        \"std\": 4.85907047837321,\n        \"min\": 4.390793522206852,\n        \"max\": 18.324152815593738,\n        \"num_unique_values\": 6,\n        \"samples\": [\n          13.268722361148935,\n          8.512575238645358,\n          9.544489945341777\n        ],\n        \"semantic_type\": \"\",\n        \"description\": \"\"\n      }\n    },\n    {\n      \"column\": [\n        \"call\",\n        0.2\n      ],\n      \"properties\": {\n        \"dtype\": \"number\",\n        \"std\": 5.648914064192004,\n        \"min\": 9.890532309623826,\n        \"max\": 26.073055287186378,\n        \"num_unique_values\": 6,\n        \"samples\": [\n          18.926336989228293,\n          14.170189866724716,\n          17.296479680851576\n        ],\n        \"semantic_type\": \"\",\n        \"description\": \"\"\n      }\n    },\n    {\n      \"column\": [\n        \"call\",\n        0.3\n      ],\n      \"properties\": {\n        \"dtype\": \"number\",\n        \"std\": 6.751480735076827,\n        \"min\": 15.851199029801098,\n        \"max\": 34.7116183413683,\n        \"num_unique_values\": 6,\n        \"samples\": [\n          24.985760140325404,\n          20.229613017821826,\n          25.900189794633242\n        ],\n        \"semantic_type\": \"\",\n        \"description\": \"\"\n      }\n    },\n    {\n      \"column\": [\n        \"put\",\n        0.1\n      ],\n      \"properties\": {\n        \"dtype\": \"number\",\n        \"std\": 3.3370666958889372,\n        \"min\": 0.6899329066325344,\n        \"max\": 8.332081709369492,\n        \"num_unique_values\": 6,\n        \"samples\": [\n          0.6899329066325344,\n          3.3916648112203407,\n          8.332081709369492\n        ],\n        \"semantic_type\": \"\",\n        \"description\": \"\"\n      }\n    },\n    {\n      \"column\": [\n        \"put\",\n        0.2\n      ],\n      \"properties\": {\n        \"dtype\": \"number\",\n        \"std\": 3.925272268074579,\n        \"min\": 4.444777261815153,\n        \"max\": 14.653545451501511,\n        \"num_unique_values\": 6,\n        \"samples\": [\n          4.444777261815153,\n          8.317720806810403,\n          14.653545451501511\n        ],\n        \"semantic_type\": \"\",\n        \"description\": \"\"\n      }\n    },\n    {\n      \"column\": [\n        \"put\",\n        0.3\n      ],\n      \"properties\": {\n        \"dtype\": \"number\",\n        \"std\": 4.3202628477099765,\n        \"min\": 8.921301544387653,\n        \"max\": 20.913043956582428,\n        \"num_unique_values\": 6,\n        \"samples\": [\n          8.921301544387653,\n          13.15787957042535,\n          20.913043956582428\n        ],\n        \"semantic_type\": \"\",\n        \"description\": \"\"\n      }\n    }\n  ]\n}"
            }
          },
          "metadata": {},
          "execution_count": 8
        }
      ],
      "source": [
        "pd.pivot_table(prices_df, values='price', index=['T', 'K'], columns=['side', 'sigma'])"
      ]
    }
  ],
  "metadata": {
    "colab": {
      "provenance": [],
      "toc_visible": true
    },
    "kernelspec": {
      "display_name": "Python 3",
      "language": "python",
      "name": "python3"
    },
    "language_info": {
      "codemirror_mode": {
        "name": "ipython",
        "version": 3
      },
      "file_extension": ".py",
      "mimetype": "text/x-python",
      "name": "python",
      "nbconvert_exporter": "python",
      "pygments_lexer": "ipython3",
      "version": "3.11.8"
    },
    "orig_nbformat": 4,
    "vscode": {
      "interpreter": {
        "hash": "a4868653bb6f8972e87e4c446ab8a445a15b25dedb8594cc74c480f8152ea86a"
      }
    }
  },
  "nbformat": 4,
  "nbformat_minor": 0
}